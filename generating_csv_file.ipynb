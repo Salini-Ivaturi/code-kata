{
 "cells": [
  {
   "cell_type": "code",
   "execution_count": 2,
   "id": "7a379839-9228-46b2-9fe6-b70be7aac4c7",
   "metadata": {},
   "outputs": [
    {
     "name": "stdout",
     "output_type": "stream",
     "text": [
      "3.5.0\n"
     ]
    }
   ],
   "source": [
    "import pyspark\n",
    "print(pyspark.__version__)"
   ]
  },
  {
   "cell_type": "code",
   "execution_count": 4,
   "id": "29b2ceb7-c5a0-43f8-be10-91c1698bad41",
   "metadata": {},
   "outputs": [
    {
     "name": "stdout",
     "output_type": "stream",
     "text": [
      "Collecting faker\n",
      "  Downloading Faker-26.0.0-py3-none-any.whl.metadata (15 kB)\n",
      "Requirement already satisfied: python-dateutil>=2.4 in /opt/conda/lib/python3.11/site-packages (from faker) (2.8.2)\n",
      "Requirement already satisfied: six>=1.5 in /opt/conda/lib/python3.11/site-packages (from python-dateutil>=2.4->faker) (1.16.0)\n",
      "Downloading Faker-26.0.0-py3-none-any.whl (1.8 MB)\n",
      "\u001b[2K   \u001b[90m━━━━━━━━━━━━━━━━━━━━━━━━━━━━━━━━━━━━━━━━\u001b[0m \u001b[32m1.8/1.8 MB\u001b[0m \u001b[31m6.5 MB/s\u001b[0m eta \u001b[36m0:00:00\u001b[0m00:01\u001b[0m00:01\u001b[0m\n",
      "\u001b[?25hInstalling collected packages: faker\n",
      "Successfully installed faker-26.0.0\n"
     ]
    }
   ],
   "source": [
    "!pip install faker\n"
   ]
  },
  {
   "cell_type": "code",
   "execution_count": 4,
   "id": "8ec157fe-9424-467d-b33f-a4de6e5adb1d",
   "metadata": {},
   "outputs": [
    {
     "name": "stdout",
     "output_type": "stream",
     "text": [
      "Current size: 40.63 MB\n",
      "Successfully Generated CSV file of size: 0.04 GB\n"
     ]
    }
   ],
   "source": [
    "from pyspark.sql import SparkSession\n",
    "from pyspark.sql.functions import expr, current_date, date_sub, rand\n",
    "import subprocess\n",
    "import os\n",
    "\n",
    "# Initializing Spark Session\n",
    "spark = SparkSession.builder.appName(\"RandomFile\").getOrCreate()\n",
    "\n",
    "# Function to get file size\n",
    "def get_file_size(file_path):\n",
    "    if not os.path.exists(file_path):\n",
    "        return 0\n",
    "    result = subprocess.run(['du', '-sb', file_path], stdout=subprocess.PIPE, stderr=subprocess.PIPE)\n",
    "    if result.returncode != 0:\n",
    "        print(f\"Error getting file size: {result.stderr.decode()}\")\n",
    "        return 0\n",
    "    return int(result.stdout.split()[0])\n",
    "\n",
    "# Setting the initial parameters\n",
    "initial_count = 100000 \n",
    "output_path = \"randomly_generated_large_dataset\"\n",
    "target_size = 10 * 1024 * 1024  \n",
    "\n",
    "\n",
    "while True:\n",
    "    # Generating DataFrame\n",
    "    df = spark.range(0, initial_count).select(\n",
    "        expr(\"uuid()\").alias(\"id\"),\n",
    "        expr(\"concat('FirstName', cast(id as string))\").alias(\"first_name\"),\n",
    "        expr(\"concat('LastName', cast(id as string))\").alias(\"last_name\"),\n",
    "        expr(\"concat(cast(rand()*1000 as int), ' Main St, City, Country')\").alias(\"address\"),\n",
    "        date_sub(current_date(), (rand()*365*72).cast(\"int\")).alias(\"date_of_birth\")\n",
    "    )\n",
    "\n",
    "    # Writing to CSV file\n",
    "    df.write.csv(output_path, header=True, mode=\"append\")\n",
    "\n",
    "    # Checking the current size\n",
    "    current_size = get_file_size(output_path)\n",
    "    print(f\"Current size: {current_size / (1024*1024):.2f} MB\")\n",
    "\n",
    "    if current_size >= target_size:\n",
    "        break\n",
    "\n",
    "    # Calculating the new count for next iteration\n",
    "    increase_factor = target_size / current_size\n",
    "    initial_count = int(initial_count * increase_factor)\n",
    "\n",
    "print(f\"Successfully Generated CSV file of size: {current_size / (1024*1024*1024):.2f} GB\")\n",
    "\n",
    "# Once we are done, we stop the Spark Session\n",
    "spark.stop()"
   ]
  },
  {
   "cell_type": "code",
   "execution_count": 3,
   "id": "45412ec2-3186-4f85-876b-8d3eaa0c09ad",
   "metadata": {},
   "outputs": [
    {
     "name": "stdout",
     "output_type": "stream",
     "text": [
      "Current size: 5.87 MB\n",
      "Successfully Generated CSV file of size: 0.01 GB\n"
     ]
    }
   ],
   "source": [
    "from pyspark.sql import SparkSession\n",
    "from pyspark.sql.functions import udf, expr, current_date, date_sub, rand, concat, lit\n",
    "from pyspark.sql.types import StringType\n",
    "import random\n",
    "from faker import Faker\n",
    "import os\n",
    "import subprocess\n",
    "\n",
    "# Initialize Spark Session\n",
    "spark = SparkSession.builder.appName(\"RandomAddressGenerator\").getOrCreate()\n",
    "\n",
    "# Lists for generating random addresses\n",
    "street_names = [\"Main\", \"Oak\", \"Pine\", \"Maple\", \"Cedar\", \"Elm\", \"Washington\", \"Lake\", \"Hill\"]\n",
    "street_types = [\"St\", \"Ave\", \"Rd\", \"Blvd\", \"Ln\", \"Dr\", \"Way\", \"Pl\"]\n",
    "cities = [\"Springfield\", \"Franklin\", \"Clinton\", \"Greenville\", \"Bristol\", \"Fairview\", \"Salem\", \"Madison\"]\n",
    "states = [\"AL\", \"AK\", \"AZ\", \"AR\", \"CA\", \"CO\", \"CT\", \"DE\", \"FL\", \"GA\", \"HI\", \"ID\", \"IL\", \"IN\"]\n",
    "\n",
    "fake = Faker()\n",
    "\n",
    "@udf(returnType=StringType())\n",
    "def random_first_name():\n",
    "    return fake.first_name()\n",
    "\n",
    "@udf(returnType=StringType())\n",
    "def random_last_name():\n",
    "    return fake.last_name()\n",
    "\n",
    "\n",
    "# UDF for generating random addresses\n",
    "@udf(returnType=StringType())\n",
    "def generate_random_address():\n",
    "    street_num = random.randint(100, 9999)\n",
    "    street_name = random.choice(street_names)\n",
    "    street_type = random.choice(street_types)\n",
    "    city = random.choice(cities)\n",
    "    state = random.choice(states)\n",
    "    zip_code = random.randint(10000, 99999)\n",
    "    return f\"{street_num} {street_name} {street_type}, {city}, {state} {zip_code}\"\n",
    "\n",
    "# Function to get file size (unchanged from your original code)\n",
    "def get_file_size(file_path):\n",
    "    if not os.path.exists(file_path):\n",
    "        return 0\n",
    "    result = subprocess.run(['du', '-sb', file_path], stdout=subprocess.PIPE, stderr=subprocess.PIPE)\n",
    "    if result.returncode != 0:\n",
    "        print(f\"Error getting file size: {result.stderr.decode()}\")\n",
    "        return 0\n",
    "    return int(result.stdout.split()[0])\n",
    "    \n",
    "\n",
    "# Set initial parameters\n",
    "initial_count = 100000  # Adjust as needed\n",
    "output_path = \"random_sample_data\"\n",
    "target_size = 10 * 1024   \n",
    "\n",
    "# Main loop\n",
    "while True:\n",
    "    # Generate DataFrame with random addresses\n",
    "    df = spark.range(0, initial_count).select(\n",
    "        random_first_name().alias(\"first_name\"),\n",
    "        random_last_name().alias(\"last_name\"),\n",
    "        generate_random_address().alias(\"address\"),\n",
    "        date_sub(current_date(), (rand()*365*72).cast(\"int\")).alias(\"date_of_birth\")\n",
    "    )\n",
    "\n",
    "    # Write DataFrame to CSV\n",
    "    df.write.csv(output_path, header=True, mode=\"append\")\n",
    "\n",
    "    # Check current size\n",
    "    current_size = get_file_size(output_path)\n",
    "    print(f\"Current size: {current_size / (1024*1024):.2f} MB\")\n",
    "\n",
    "    if current_size >= target_size:\n",
    "        break\n",
    "\n",
    "    # Calculate new count for next iteration\n",
    "    increase_factor = target_size / current_size\n",
    "    initial_count = int(initial_count * increase_factor)\n",
    "\n",
    "print(f\"Successfully Generated CSV file of size: {current_size / (1024*1024*1024):.2f} GB\")\n",
    "\n",
    "# Stop Spark Session\n",
    "spark.stop()"
   ]
  },
  {
   "cell_type": "code",
   "execution_count": null,
   "id": "ccd36979-be7f-4236-bd3e-168f98f5c7fc",
   "metadata": {},
   "outputs": [],
   "source": []
  },
  {
   "cell_type": "code",
   "execution_count": null,
   "id": "78d7db49-91fe-4db8-bb18-7b1cabcfa36b",
   "metadata": {},
   "outputs": [],
   "source": []
  }
 ],
 "metadata": {
  "kernelspec": {
   "display_name": "Python 3 (ipykernel)",
   "language": "python",
   "name": "python3"
  },
  "language_info": {
   "codemirror_mode": {
    "name": "ipython",
    "version": 3
   },
   "file_extension": ".py",
   "mimetype": "text/x-python",
   "name": "python",
   "nbconvert_exporter": "python",
   "pygments_lexer": "ipython3",
   "version": "3.11.6"
  }
 },
 "nbformat": 4,
 "nbformat_minor": 5
}
